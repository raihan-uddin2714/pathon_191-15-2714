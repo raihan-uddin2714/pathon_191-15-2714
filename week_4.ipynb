{
  "nbformat": 4,
  "nbformat_minor": 0,
  "metadata": {
    "colab": {
      "name": "week 4.ipynb",
      "provenance": [],
      "authorship_tag": "ABX9TyPdfST6CFvxk9uo07wpUMjl",
      "include_colab_link": true
    },
    "kernelspec": {
      "name": "python3",
      "display_name": "Python 3"
    }
  },
  "cells": [
    {
      "cell_type": "markdown",
      "metadata": {
        "id": "view-in-github",
        "colab_type": "text"
      },
      "source": [
        "<a href=\"https://colab.research.google.com/github/raihan-uddin2714/pathon_191-15-2714/blob/main/week_4.ipynb\" target=\"_parent\"><img src=\"https://colab.research.google.com/assets/colab-badge.svg\" alt=\"Open In Colab\"/></a>"
      ]
    },
    {
      "cell_type": "code",
      "metadata": {
        "colab": {
          "base_uri": "https://localhost:8080/"
        },
        "id": "sDymVFuxV35O",
        "outputId": "128f5215-5ba2-4512-d131-bb02a91767b7"
      },
      "source": [
        "lst0=[1,2,3,32,2.23,43.23,\"python\",[2,32,3]]\r\n",
        "print(lst0)\r\n",
        "lst1=[]\r\n",
        "print(lst1)\r\n",
        "lst2=list()\r\n",
        "print(lst2)\r\n",
        "print(lst0[6])"
      ],
      "execution_count": 1,
      "outputs": [
        {
          "output_type": "stream",
          "text": [
            "[1, 2, 3, 32, 2.23, 43.23, 'python', [2, 32, 3]]\n",
            "[]\n",
            "[]\n",
            "python\n"
          ],
          "name": "stdout"
        }
      ]
    },
    {
      "cell_type": "code",
      "metadata": {
        "colab": {
          "base_uri": "https://localhost:8080/"
        },
        "id": "ep7I6PX7WBq3",
        "outputId": "124493e8-9595-4f96-a1e0-55f2e9997e11"
      },
      "source": [
        "lst0=[1,2,3,32,2.23,43.23,\"python\",[2,32,3]]\r\n",
        "for i in lst0:\r\n",
        "    print(i,end=' ')\r\n",
        "print('')"
      ],
      "execution_count": 2,
      "outputs": [
        {
          "output_type": "stream",
          "text": [
            "1 2 3 32 2.23 43.23 python [2, 32, 3] \n"
          ],
          "name": "stdout"
        }
      ]
    },
    {
      "cell_type": "code",
      "metadata": {
        "colab": {
          "base_uri": "https://localhost:8080/"
        },
        "id": "_yyvCtBxWMoA",
        "outputId": "bb5a924a-8a86-4c78-9ec6-36145592d867"
      },
      "source": [
        "lst0=[1,2,3,32,2.23,43.23,\"python\",[2,32,3]]\r\n",
        "for i in lst0:\r\n",
        "  print(i,end= '\\n ')\r\n",
        "  print(' ')"
      ],
      "execution_count": 3,
      "outputs": [
        {
          "output_type": "stream",
          "text": [
            "1\n",
            "  \n",
            "2\n",
            "  \n",
            "3\n",
            "  \n",
            "32\n",
            "  \n",
            "2.23\n",
            "  \n",
            "43.23\n",
            "  \n",
            "python\n",
            "  \n",
            "[2, 32, 3]\n",
            "  \n"
          ],
          "name": "stdout"
        }
      ]
    },
    {
      "cell_type": "code",
      "metadata": {
        "colab": {
          "base_uri": "https://localhost:8080/"
        },
        "id": "1mPcIbTgWRhu",
        "outputId": "daf29968-07c3-494b-80ca-4d6f98e35308"
      },
      "source": [
        "lst0=[1,2,3,32,2.23,43.23,\"python\",[2,32,3]]\r\n",
        "\r\n",
        "print(len(lst0))                #len( ) gives the length of the list\r\n",
        "\r\n",
        "lst0.append([12,2,12,2])        #append( ) inserts an element to the end of the list\r\n",
        "print(lst0)\r\n",
        "\r\n",
        "lst0.insert(2,\"pandas\")        \r\n",
        "print(lst0)\r\n",
        "\r\n",
        "lst0.remove(3)                  \r\n",
        "print(lst0)\r\n",
        "\r\n",
        "print(lst0.index(\"python\"))                    \r\n",
        "\r\n",
        "print(lst0.count('pandas'))     \r\n",
        "\r\n",
        "print(lst0.reverse())           \r\n",
        "\r\n",
        "lst1=lst0.copy()              \r\n",
        "print(lst1)\r\n",
        "\r\n",
        "lst0.clear()"
      ],
      "execution_count": 5,
      "outputs": [
        {
          "output_type": "stream",
          "text": [
            "8\n",
            "[1, 2, 3, 32, 2.23, 43.23, 'python', [2, 32, 3], [12, 2, 12, 2]]\n",
            "[1, 2, 'pandas', 3, 32, 2.23, 43.23, 'python', [2, 32, 3], [12, 2, 12, 2]]\n",
            "[1, 2, 'pandas', 32, 2.23, 43.23, 'python', [2, 32, 3], [12, 2, 12, 2]]\n",
            "6\n",
            "1\n",
            "None\n",
            "[[12, 2, 12, 2], [2, 32, 3], 'python', 43.23, 2.23, 32, 'pandas', 2, 1]\n"
          ],
          "name": "stdout"
        }
      ]
    },
    {
      "cell_type": "code",
      "metadata": {
        "colab": {
          "base_uri": "https://localhost:8080/"
        },
        "id": "BJdRiba9WZV2",
        "outputId": "6de012c7-8b89-4e46-b3a2-306c0bdf517e"
      },
      "source": [
        "lst0=[1,2,3,32,2.23,43.23,\"python\",[2,32,3]]\r\n",
        "\r\n",
        "print(lst0[2:7])\r\n",
        "print(lst0[2:])\r\n",
        "print(lst0[:5])\r\n",
        "print(lst0[:])"
      ],
      "execution_count": 6,
      "outputs": [
        {
          "output_type": "stream",
          "text": [
            "[3, 32, 2.23, 43.23, 'python']\n",
            "[3, 32, 2.23, 43.23, 'python', [2, 32, 3]]\n",
            "[1, 2, 3, 32, 2.23]\n",
            "[1, 2, 3, 32, 2.23, 43.23, 'python', [2, 32, 3]]\n"
          ],
          "name": "stdout"
        }
      ]
    },
    {
      "cell_type": "code",
      "metadata": {
        "colab": {
          "base_uri": "https://localhost:8080/"
        },
        "id": "YCSp0MoCWm7Y",
        "outputId": "f0af1392-31c4-48fd-9038-ecbabbacfef5"
      },
      "source": [
        "[3, 32, 2.23, 43.23, 'python']\r\n",
        "[3, 32, 2.23, 43.23, 'python', [2, 32, 3]]\r\n",
        "[1, 2, 3, 32, 2.23]\r\n",
        "[1, 2, 3, 32, 2.23, 43.23, 'python', [2, 32, 3]]"
      ],
      "execution_count": 7,
      "outputs": [
        {
          "output_type": "execute_result",
          "data": {
            "text/plain": [
              "[1, 2, 3, 32, 2.23, 43.23, 'python', [2, 32, 3]]"
            ]
          },
          "metadata": {
            "tags": []
          },
          "execution_count": 7
        }
      ]
    },
    {
      "cell_type": "code",
      "metadata": {
        "colab": {
          "base_uri": "https://localhost:8080/"
        },
        "id": "NHS3TL7HWrAw",
        "outputId": "845f8a1d-e426-4dbd-c352-6b218bf663bf"
      },
      "source": [
        "lst0=[1,2,3,32,2.23,43.23,\"python\",[2,32,3]]\r\n",
        "\r\n",
        "print(lst0[2:7])\r\n",
        "print(lst0[2:])\r\n",
        "print(lst0[:5])\r\n",
        "print(lst0[:])"
      ],
      "execution_count": 8,
      "outputs": [
        {
          "output_type": "stream",
          "text": [
            "[3, 32, 2.23, 43.23, 'python']\n",
            "[3, 32, 2.23, 43.23, 'python', [2, 32, 3]]\n",
            "[1, 2, 3, 32, 2.23]\n",
            "[1, 2, 3, 32, 2.23, 43.23, 'python', [2, 32, 3]]\n"
          ],
          "name": "stdout"
        }
      ]
    },
    {
      "cell_type": "code",
      "metadata": {
        "colab": {
          "base_uri": "https://localhost:8080/"
        },
        "id": "DwQxjRiHW7Wv",
        "outputId": "82999323-cf1e-42e8-f6c2-c7989de92ccf"
      },
      "source": [
        "lst0=[1,2,3,32,2.23,43.23,\"python\",[2,32,3]]\r\n",
        "\r\n",
        "print(lst0[2:7])\r\n",
        "print(lst0[2:])\r\n",
        "print(lst0[:5])\r\n",
        "print(lst0[:])"
      ],
      "execution_count": 9,
      "outputs": [
        {
          "output_type": "stream",
          "text": [
            "[3, 32, 2.23, 43.23, 'python']\n",
            "[3, 32, 2.23, 43.23, 'python', [2, 32, 3]]\n",
            "[1, 2, 3, 32, 2.23]\n",
            "[1, 2, 3, 32, 2.23, 43.23, 'python', [2, 32, 3]]\n"
          ],
          "name": "stdout"
        }
      ]
    },
    {
      "cell_type": "code",
      "metadata": {
        "colab": {
          "base_uri": "https://localhost:8080/"
        },
        "id": "dZYCdgEuXBOY",
        "outputId": "941b4ee7-dcfe-4222-a193-c439352ecda0"
      },
      "source": [
        "lst0=[1,2,3,32,2.23,43.23,\"python\",[2,32,3]]\r\n",
        "\r\n",
        "print(lst0[2:7])\r\n",
        "print(lst0[2:])\r\n",
        "print(lst0[:5])\r\n",
        "print(lst0[:])"
      ],
      "execution_count": 10,
      "outputs": [
        {
          "output_type": "stream",
          "text": [
            "[3, 32, 2.23, 43.23, 'python']\n",
            "[3, 32, 2.23, 43.23, 'python', [2, 32, 3]]\n",
            "[1, 2, 3, 32, 2.23]\n",
            "[1, 2, 3, 32, 2.23, 43.23, 'python', [2, 32, 3]]\n"
          ],
          "name": "stdout"
        }
      ]
    },
    {
      "cell_type": "code",
      "metadata": {
        "colab": {
          "base_uri": "https://localhost:8080/"
        },
        "id": "j-xlFKVvXS-K",
        "outputId": "8c4249a1-5724-442b-c8f9-8c494c3c1fb1"
      },
      "source": [
        "tp0=(1,2,3,32,2.23,43.23,\"python\",[2,32,3])\r\n",
        "print(tp0)\r\n",
        "tp1=()\r\n",
        "print(tp1)\r\n",
        "tp2=tuple()\r\n",
        "print(tp2)"
      ],
      "execution_count": 12,
      "outputs": [
        {
          "output_type": "stream",
          "text": [
            "(1, 2, 3, 32, 2.23, 43.23, 'python', [2, 32, 3])\n",
            "()\n",
            "()\n"
          ],
          "name": "stdout"
        }
      ]
    },
    {
      "cell_type": "code",
      "metadata": {
        "colab": {
          "base_uri": "https://localhost:8080/"
        },
        "id": "7cj7jhmiXY-J",
        "outputId": "25b96899-b27f-4030-c66a-01186f0cd7a8"
      },
      "source": [
        "tp0=(1,2,3,32,2.23,43.23,\"python\",[2,32,3])\r\n",
        "for i in tp0:\r\n",
        "    print(i,end=' ')\r\n",
        "print('')"
      ],
      "execution_count": 13,
      "outputs": [
        {
          "output_type": "stream",
          "text": [
            "1 2 3 32 2.23 43.23 python [2, 32, 3] \n"
          ],
          "name": "stdout"
        }
      ]
    },
    {
      "cell_type": "code",
      "metadata": {
        "colab": {
          "base_uri": "https://localhost:8080/"
        },
        "id": "D3tLWJ8IXo-g",
        "outputId": "5237e56c-05b3-442c-82e7-f77a6450c77a"
      },
      "source": [
        "tp0=(1,2,3,32,2.23,43.23,\"python\",[2,32,3])\r\n",
        "for i in tp0:\r\n",
        "    print(i,end=' ')\r\n",
        "print('')"
      ],
      "execution_count": 14,
      "outputs": [
        {
          "output_type": "stream",
          "text": [
            "1 2 3 32 2.23 43.23 python [2, 32, 3] \n"
          ],
          "name": "stdout"
        }
      ]
    },
    {
      "cell_type": "code",
      "metadata": {
        "colab": {
          "base_uri": "https://localhost:8080/"
        },
        "id": "vosNfsViXwAe",
        "outputId": "92aaec76-2d9b-424d-cffa-60c82a2d1ae3"
      },
      "source": [
        "tp0=(1,2,3,32,2.23,43.23,\"python\",[2,32,3])\r\n",
        "print(tp0[2])\r\n",
        "print(tp0[6])\r\n",
        "print(tp0[-2])\r\n",
        "print(tp0[-7])"
      ],
      "execution_count": 15,
      "outputs": [
        {
          "output_type": "stream",
          "text": [
            "3\n",
            "python\n",
            "python\n",
            "2\n"
          ],
          "name": "stdout"
        }
      ]
    },
    {
      "cell_type": "code",
      "metadata": {
        "colab": {
          "base_uri": "https://localhost:8080/"
        },
        "id": "L7suqx1sYMM5",
        "outputId": "dd39cd81-be36-45c8-84dd-b33c4a8808f4"
      },
      "source": [
        "tp0=(1,2,3,32,2.23,43.23,\"python\",[2,32,3])\r\n",
        "tp0+=(\"pandas\",232,3,232,3)\r\n",
        "print(tp0)"
      ],
      "execution_count": 16,
      "outputs": [
        {
          "output_type": "stream",
          "text": [
            "(1, 2, 3, 32, 2.23, 43.23, 'python', [2, 32, 3], 'pandas', 232, 3, 232, 3)\n"
          ],
          "name": "stdout"
        }
      ]
    },
    {
      "cell_type": "code",
      "metadata": {
        "colab": {
          "base_uri": "https://localhost:8080/"
        },
        "id": "v_OmBNsHYVj7",
        "outputId": "6d3c0def-ded8-467c-b5d9-fa707810b55b"
      },
      "source": [
        "lst=[2,3,423,43]\r\n",
        "a,b,c,d=lst\r\n",
        "print(a)\r\n",
        "print(b)\r\n",
        "print(c)\r\n",
        "print(d)"
      ],
      "execution_count": 17,
      "outputs": [
        {
          "output_type": "stream",
          "text": [
            "2\n",
            "3\n",
            "423\n",
            "43\n"
          ],
          "name": "stdout"
        }
      ]
    },
    {
      "cell_type": "code",
      "metadata": {
        "colab": {
          "base_uri": "https://localhost:8080/"
        },
        "id": "OGxxS3seYdkB",
        "outputId": "28839bf0-de76-4c2d-a48b-c751dc393322"
      },
      "source": [
        "tp=(2,3,423,43)\r\n",
        "a,b,c,d=tp\r\n",
        "print(a)\r\n",
        "print(b)\r\n",
        "print(c)\r\n",
        "print(d)"
      ],
      "execution_count": 18,
      "outputs": [
        {
          "output_type": "stream",
          "text": [
            "2\n",
            "3\n",
            "423\n",
            "43\n"
          ],
          "name": "stdout"
        }
      ]
    }
  ]
}