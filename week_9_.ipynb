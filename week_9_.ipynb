{
  "nbformat": 4,
  "nbformat_minor": 0,
  "metadata": {
    "colab": {
      "name": "week 9 .ipynb",
      "provenance": [],
      "authorship_tag": "ABX9TyPqpvqGIOikFwG6gqjwuBcf",
      "include_colab_link": true
    },
    "kernelspec": {
      "name": "python3",
      "display_name": "Python 3"
    }
  },
  "cells": [
    {
      "cell_type": "markdown",
      "metadata": {
        "id": "view-in-github",
        "colab_type": "text"
      },
      "source": [
        "<a href=\"https://colab.research.google.com/github/raihan-uddin2714/pathon_191-15-2714/blob/main/week_9_.ipynb\" target=\"_parent\"><img src=\"https://colab.research.google.com/assets/colab-badge.svg\" alt=\"Open In Colab\"/></a>"
      ]
    },
    {
      "cell_type": "code",
      "metadata": {
        "id": "98ZIemA3kdjR"
      },
      "source": [
        "class Cat:\r\n",
        "    def __init__(self, name, age):\r\n",
        "        self.name = name\r\n",
        "        self.age = age\r\n",
        "\r\n",
        "    def info(self):\r\n",
        "        print(f\"I am a cat. My name is {self.name}. I am {self.age} years old.\")\r\n",
        "\r\n",
        "    def make_sound(self):\r\n",
        "        print(\"Meow\")"
      ],
      "execution_count": 1,
      "outputs": []
    },
    {
      "cell_type": "code",
      "metadata": {
        "id": "LAKHS9trk2t9"
      },
      "source": [
        "class Mouse:\r\n",
        "    def __init__(self, name, age):\r\n",
        "        self.name = name\r\n",
        "        self.age = age\r\n",
        "\r\n",
        "    def info(self):\r\n",
        "        print(f\"I am a Mouse. My name is {self.name}. I am {self.age} years old.\")\r\n",
        "\r\n",
        "    def make_sound(self):\r\n",
        "        print(\"Bark\")"
      ],
      "execution_count": 2,
      "outputs": []
    },
    {
      "cell_type": "code",
      "metadata": {
        "id": "jIxCncwik-AV"
      },
      "source": [
        "#create object\r\n",
        "cat1 = Cat(\"tom\", 2.5)\r\n",
        "mouse1 = Mouse(\"jerry\", 4)"
      ],
      "execution_count": 4,
      "outputs": []
    },
    {
      "cell_type": "code",
      "metadata": {
        "colab": {
          "base_uri": "https://localhost:8080/"
        },
        "id": "Qgg0288MlDAT",
        "outputId": "6e6b5559-9b43-4708-8a48-90e661b8d604"
      },
      "source": [
        "for animal in (cat1, mouse1):\r\n",
        "    animal.make_sound()\r\n",
        "    animal.info()\r\n",
        "    animal.make_sound()"
      ],
      "execution_count": 5,
      "outputs": [
        {
          "output_type": "stream",
          "text": [
            "Meow\n",
            "I am a cat. My name is tom. I am 2.5 years old.\n",
            "Meow\n",
            "Bark\n",
            "I am a Mouse. My name is jerry. I am 4 years old.\n",
            "Bark\n"
          ],
          "name": "stdout"
        }
      ]
    },
    {
      "cell_type": "code",
      "metadata": {
        "id": "q4ShvsExlJKU"
      },
      "source": [
        "#error and exception handling \r\n",
        "\r\n",
        "def add(n1, n2):\r\n",
        "  print(n1+n2)"
      ],
      "execution_count": 8,
      "outputs": []
    },
    {
      "cell_type": "code",
      "metadata": {
        "colab": {
          "base_uri": "https://localhost:8080/"
        },
        "id": "O8KCi1dwlY_2",
        "outputId": "d057a4c3-36fe-4bbc-a999-2b4efe252f6c"
      },
      "source": [
        "add(10,20)"
      ],
      "execution_count": 9,
      "outputs": [
        {
          "output_type": "stream",
          "text": [
            "30\n"
          ],
          "name": "stdout"
        }
      ]
    },
    {
      "cell_type": "code",
      "metadata": {
        "colab": {
          "base_uri": "https://localhost:8080/"
        },
        "id": "97tvU0Oglc0j",
        "outputId": "e3d90a27-ead4-44c4-c12a-4093e0285058"
      },
      "source": [
        "#exception handling\r\n",
        "\r\n",
        "try:\r\n",
        "  #want to attempt this code \r\n",
        "  #may have an error\r\n",
        "  result = 10+'10'\r\n",
        "except:\r\n",
        "  print(f'Hey! its looks like you are not adding correctly!')"
      ],
      "execution_count": 10,
      "outputs": [
        {
          "output_type": "stream",
          "text": [
            "Hey! its looks like you are not adding correctly!\n"
          ],
          "name": "stdout"
        }
      ]
    },
    {
      "cell_type": "code",
      "metadata": {
        "colab": {
          "base_uri": "https://localhost:8080/"
        },
        "id": "YfS__lUblhm-",
        "outputId": "c6522113-d404-4489-ae55-fd7e24c2320b"
      },
      "source": [
        "#exception handling\r\n",
        "\r\n",
        "try:\r\n",
        "  #want to attempt this code \r\n",
        "  result = 10+10\r\n",
        "except:\r\n",
        "  print(f'Hey! its looks like you are not adding correctly!')\r\n",
        "else:\r\n",
        "  print(f'add went well')\r\n",
        "  print(f'sum is: {result}')"
      ],
      "execution_count": 11,
      "outputs": [
        {
          "output_type": "stream",
          "text": [
            "add went well\n",
            "sum is: 20\n"
          ],
          "name": "stdout"
        }
      ]
    }
  ]
}