{
  "nbformat": 4,
  "nbformat_minor": 0,
  "metadata": {
    "colab": {
      "name": "week 1,2.ipynb",
      "provenance": [],
      "authorship_tag": "ABX9TyMkSXUavLAkqrzaEUpuioC3",
      "include_colab_link": true
    },
    "kernelspec": {
      "name": "python3",
      "display_name": "Python 3"
    }
  },
  "cells": [
    {
      "cell_type": "markdown",
      "metadata": {
        "id": "view-in-github",
        "colab_type": "text"
      },
      "source": [
        "<a href=\"https://colab.research.google.com/github/raihan-uddin2714/pathon_191-15-2714/blob/main/week_1%2C2.ipynb\" target=\"_parent\"><img src=\"https://colab.research.google.com/assets/colab-badge.svg\" alt=\"Open In Colab\"/></a>"
      ]
    },
    {
      "cell_type": "code",
      "metadata": {
        "colab": {
          "base_uri": "https://localhost:8080/"
        },
        "id": "I-YbRLJaFuxn",
        "outputId": "fdd6e326-e672-46a7-f4a2-731ce4c0a589"
      },
      "source": [
        "print(\"Hello World\")"
      ],
      "execution_count": 1,
      "outputs": [
        {
          "output_type": "stream",
          "text": [
            "Hello World\n"
          ],
          "name": "stdout"
        }
      ]
    },
    {
      "cell_type": "code",
      "metadata": {
        "colab": {
          "base_uri": "https://localhost:8080/"
        },
        "id": "OfH7A5XWGZ_A",
        "outputId": "11dccc9d-36c6-402d-bef2-41a48339430f"
      },
      "source": [
        "x=7\r\n",
        "y=3\r\n",
        "print(x+y)"
      ],
      "execution_count": 3,
      "outputs": [
        {
          "output_type": "stream",
          "text": [
            "10\n"
          ],
          "name": "stdout"
        }
      ]
    },
    {
      "cell_type": "code",
      "metadata": {
        "colab": {
          "base_uri": "https://localhost:8080/"
        },
        "id": "rnCI7PNdGnCf",
        "outputId": "a3a6fec7-bb49-48f4-df8d-3608fdd88960"
      },
      "source": [
        "total = x+y\r\n",
        "print(total)"
      ],
      "execution_count": 4,
      "outputs": [
        {
          "output_type": "stream",
          "text": [
            "10\n"
          ],
          "name": "stdout"
        }
      ]
    },
    {
      "cell_type": "code",
      "metadata": {
        "colab": {
          "base_uri": "https://localhost:8080/"
        },
        "id": "TumsSC9FG1AO",
        "outputId": "2668c3ec-49ef-4e95-d408-ae698098e921"
      },
      "source": [
        "name = \"Adam\"\r\n",
        "name2 = \"Eva\"\r\n",
        "print(name , name2)"
      ],
      "execution_count": 5,
      "outputs": [
        {
          "output_type": "stream",
          "text": [
            "Adam Eva\n"
          ],
          "name": "stdout"
        }
      ]
    },
    {
      "cell_type": "code",
      "metadata": {
        "colab": {
          "base_uri": "https://localhost:8080/"
        },
        "id": "RWARVig-G7sk",
        "outputId": "81fbc18d-fcce-43e8-d817-c91ce981ab7b"
      },
      "source": [
        "x =10\r\n",
        "type(x)"
      ],
      "execution_count": 6,
      "outputs": [
        {
          "output_type": "execute_result",
          "data": {
            "text/plain": [
              "int"
            ]
          },
          "metadata": {
            "tags": []
          },
          "execution_count": 6
        }
      ]
    },
    {
      "cell_type": "code",
      "metadata": {
        "colab": {
          "base_uri": "https://localhost:8080/"
        },
        "id": "yXynBPRNHJli",
        "outputId": "636b83f3-0de3-46c6-c147-7776dba4ca4e"
      },
      "source": [
        "type(10.5)"
      ],
      "execution_count": 7,
      "outputs": [
        {
          "output_type": "execute_result",
          "data": {
            "text/plain": [
              "float"
            ]
          },
          "metadata": {
            "tags": []
          },
          "execution_count": 7
        }
      ]
    },
    {
      "cell_type": "code",
      "metadata": {
        "colab": {
          "base_uri": "https://localhost:8080/"
        },
        "id": "DrdzNrNNHLzI",
        "outputId": "54416d48-9a16-4d23-cad0-d78b006fc977"
      },
      "source": [
        "type(name)"
      ],
      "execution_count": 9,
      "outputs": [
        {
          "output_type": "execute_result",
          "data": {
            "text/plain": [
              "str"
            ]
          },
          "metadata": {
            "tags": []
          },
          "execution_count": 9
        }
      ]
    },
    {
      "cell_type": "code",
      "metadata": {
        "colab": {
          "base_uri": "https://localhost:8080/"
        },
        "id": "9yWlOIB5HtaB",
        "outputId": "666ad96c-c80a-4a2b-857a-491d659b0b2c"
      },
      "source": [
        "add = 10+15\r\n",
        "print(add)"
      ],
      "execution_count": 11,
      "outputs": [
        {
          "output_type": "stream",
          "text": [
            "25\n"
          ],
          "name": "stdout"
        }
      ]
    },
    {
      "cell_type": "code",
      "metadata": {
        "colab": {
          "base_uri": "https://localhost:8080/"
        },
        "id": "b2nr1KEhH6vQ",
        "outputId": "be90fa9a-a644-41ec-8c41-67310e215600"
      },
      "source": [
        "number1 = int(input('Enter first integer: '))\r\n",
        "number2 = int(input('Enter second integer: '))\r\n",
        "number3 = int(input('Enter third integer: '))"
      ],
      "execution_count": 13,
      "outputs": [
        {
          "output_type": "stream",
          "text": [
            "Enter first integer: 2\n",
            "Enter second integer: 3\n",
            "Enter third integer: 4\n"
          ],
          "name": "stdout"
        }
      ]
    },
    {
      "cell_type": "code",
      "metadata": {
        "colab": {
          "base_uri": "https://localhost:8080/"
        },
        "id": "ngcpdYO4IKLI",
        "outputId": "bbb48700-15d7-45b6-bbb2-09f37b88d8bb"
      },
      "source": [
        "grade = 77\r\n",
        "\r\n",
        "if grade >= 90:\r\n",
        "    print('A')\r\n",
        "elif grade >= 80:\r\n",
        "    print('B')\r\n",
        "elif grade >= 70:\r\n",
        "    print('C')\r\n",
        "elif grade >= 60:\r\n",
        "    print('D')\r\n",
        "else:\r\n",
        "    print('F')"
      ],
      "execution_count": 14,
      "outputs": [
        {
          "output_type": "stream",
          "text": [
            "C\n"
          ],
          "name": "stdout"
        }
      ]
    },
    {
      "cell_type": "code",
      "metadata": {
        "colab": {
          "base_uri": "https://localhost:8080/"
        },
        "id": "G7QbD2RxIVlo",
        "outputId": "c2cf66e2-9df4-4c02-c8c3-d7a30b821409"
      },
      "source": [
        "number = 1\r\n",
        "\r\n",
        "while (number<10):\r\n",
        "  print(number, end=\" \") #print in same line with space using end =\" \"\r\n",
        "  number+=1"
      ],
      "execution_count": 15,
      "outputs": [
        {
          "output_type": "stream",
          "text": [
            "1 2 3 4 5 6 7 8 9 "
          ],
          "name": "stdout"
        }
      ]
    },
    {
      "cell_type": "code",
      "metadata": {
        "colab": {
          "base_uri": "https://localhost:8080/"
        },
        "id": "XhZAKPOmIzFe",
        "outputId": "9fd92d93-3019-4a16-d2b2-a6b92857717b"
      },
      "source": [
        "total = 0\r\n",
        "for number in range(1000001):\r\n",
        "  total = total+number\r\n",
        "\r\n",
        "print(total)"
      ],
      "execution_count": 18,
      "outputs": [
        {
          "output_type": "stream",
          "text": [
            "500000500000\n"
          ],
          "name": "stdout"
        }
      ]
    },
    {
      "cell_type": "code",
      "metadata": {
        "colab": {
          "base_uri": "https://localhost:8080/"
        },
        "id": "R7j9GjRoI1-_",
        "outputId": "d7c0750c-99e9-440f-ce08-6d4ea672145b"
      },
      "source": [
        "for i in range(1,11):\r\n",
        "  print(number,\"X\",i,\"=\",number*i)"
      ],
      "execution_count": 19,
      "outputs": [
        {
          "output_type": "stream",
          "text": [
            "1000000 X 1 = 1000000\n",
            "1000000 X 2 = 2000000\n",
            "1000000 X 3 = 3000000\n",
            "1000000 X 4 = 4000000\n",
            "1000000 X 5 = 5000000\n",
            "1000000 X 6 = 6000000\n",
            "1000000 X 7 = 7000000\n",
            "1000000 X 8 = 8000000\n",
            "1000000 X 9 = 9000000\n",
            "1000000 X 10 = 10000000\n"
          ],
          "name": "stdout"
        }
      ]
    },
    {
      "cell_type": "code",
      "metadata": {
        "colab": {
          "base_uri": "https://localhost:8080/"
        },
        "id": "vEyqQvRnI-u3",
        "outputId": "9ee49e4a-123f-430d-bcf6-76c845637a7b"
      },
      "source": [
        "for left in range(7):\r\n",
        "    for right in range(left,7):\r\n",
        "        print(\"[\"+str(left)+\"|\"+str(right)+\"]\", end =\" \")\r\n",
        "    print()"
      ],
      "execution_count": 20,
      "outputs": [
        {
          "output_type": "stream",
          "text": [
            "[0|0] [0|1] [0|2] [0|3] [0|4] [0|5] [0|6] \n",
            "[1|1] [1|2] [1|3] [1|4] [1|5] [1|6] \n",
            "[2|2] [2|3] [2|4] [2|5] [2|6] \n",
            "[3|3] [3|4] [3|5] [3|6] \n",
            "[4|4] [4|5] [4|6] \n",
            "[5|5] [5|6] \n",
            "[6|6] \n"
          ],
          "name": "stdout"
        }
      ]
    },
    {
      "cell_type": "code",
      "metadata": {
        "colab": {
          "base_uri": "https://localhost:8080/"
        },
        "id": "MLb5_KyPJE8R",
        "outputId": "02d5e0c5-5016-4686-e89b-4770ab9bd88f"
      },
      "source": [
        "for number in range(10):\r\n",
        "  if  number==5:\r\n",
        "    break\r\n",
        "  print(number, end=\" \")"
      ],
      "execution_count": 21,
      "outputs": [
        {
          "output_type": "stream",
          "text": [
            "0 1 2 3 4 "
          ],
          "name": "stdout"
        }
      ]
    },
    {
      "cell_type": "code",
      "metadata": {
        "colab": {
          "base_uri": "https://localhost:8080/"
        },
        "id": "uF0zsIRFJOQn",
        "outputId": "dc05770c-9910-4620-8375-22820c4d2735"
      },
      "source": [
        "for number in range(10):\r\n",
        "  if  number==5:\r\n",
        "    continue\r\n",
        "  print(number, end=\" \")"
      ],
      "execution_count": 22,
      "outputs": [
        {
          "output_type": "stream",
          "text": [
            "0 1 2 3 4 6 7 8 9 "
          ],
          "name": "stdout"
        }
      ]
    }
  ]
}