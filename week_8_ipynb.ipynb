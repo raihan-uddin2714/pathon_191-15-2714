{
  "nbformat": 4,
  "nbformat_minor": 0,
  "metadata": {
    "colab": {
      "name": "week 8 ipynb",
      "provenance": [],
      "authorship_tag": "ABX9TyOxPtUHrrA9oDO6pfRROdF5",
      "include_colab_link": true
    },
    "kernelspec": {
      "name": "python3",
      "display_name": "Python 3"
    }
  },
  "cells": [
    {
      "cell_type": "markdown",
      "metadata": {
        "id": "view-in-github",
        "colab_type": "text"
      },
      "source": [
        "<a href=\"https://colab.research.google.com/github/raihan-uddin2714/pathon_191-15-2714/blob/main/week_8_ipynb.ipynb\" target=\"_parent\"><img src=\"https://colab.research.google.com/assets/colab-badge.svg\" alt=\"Open In Colab\"/></a>"
      ]
    },
    {
      "cell_type": "code",
      "metadata": {
        "id": "QfgMqyeHjODE"
      },
      "source": [
        "#create base calss \r\n",
        "class Ball():\r\n",
        "  def __init__(self):\r\n",
        "    print(f'Ball created!')\r\n",
        "  \r\n",
        "  def who_am_i(self):\r\n",
        "    print(f'i am ball')"
      ],
      "execution_count": 1,
      "outputs": []
    },
    {
      "cell_type": "code",
      "metadata": {
        "id": "SqieMZBWjamk"
      },
      "source": [
        "#create a Child(football) class\r\n",
        "\r\n",
        "class Football(Ball):\r\n",
        "  def __init__(self):\r\n",
        "    #create instances of Ball\r\n",
        "    Ball.__init__(self)\r\n",
        "    print(f'football created!')"
      ],
      "execution_count": 2,
      "outputs": []
    },
    {
      "cell_type": "code",
      "metadata": {
        "colab": {
          "base_uri": "https://localhost:8080/"
        },
        "id": "1Vx1hVopjj1e",
        "outputId": "3a0890b1-2d25-4a98-ae0d-f7c702b7a4ba"
      },
      "source": [
        "#create object\r\n",
        "myFootball = Football()"
      ],
      "execution_count": 3,
      "outputs": [
        {
          "output_type": "stream",
          "text": [
            "Ball created!\n",
            "football created!\n"
          ],
          "name": "stdout"
        }
      ]
    },
    {
      "cell_type": "code",
      "metadata": {
        "colab": {
          "base_uri": "https://localhost:8080/"
        },
        "id": "tpnYjlc-jn87",
        "outputId": "29bb6a68-ef2e-429e-884c-e2e610b454ca"
      },
      "source": [
        "#call base method\r\n",
        "myFootball.who_am_i()"
      ],
      "execution_count": 4,
      "outputs": [
        {
          "output_type": "stream",
          "text": [
            "i am ball\n"
          ],
          "name": "stdout"
        }
      ]
    },
    {
      "cell_type": "code",
      "metadata": {
        "id": "JaBPA6uhjzp-"
      },
      "source": [
        "#overriding\r\n",
        "class Football(Ball):\r\n",
        "  def __init__(self):\r\n",
        "    #create instances of Ball\r\n",
        "    Ball.__init__(self)\r\n",
        "    print(f'football created!')\r\n",
        "  #overide base class method\r\n",
        "  def who_am_i(self):\r\n",
        "    print(f'i am football!')"
      ],
      "execution_count": 5,
      "outputs": []
    },
    {
      "cell_type": "code",
      "metadata": {
        "colab": {
          "base_uri": "https://localhost:8080/"
        },
        "id": "h8aVT1fWj_DJ",
        "outputId": "5241aa64-5f3e-4aeb-82c2-0e298d8f3827"
      },
      "source": [
        "#create object\r\n",
        "myFootball = Football()\r\n",
        "#call overide method\r\n",
        "myFootball.who_am_i()"
      ],
      "execution_count": 6,
      "outputs": [
        {
          "output_type": "stream",
          "text": [
            "Ball created!\n",
            "football created!\n",
            "i am football!\n"
          ],
          "name": "stdout"
        }
      ]
    },
    {
      "cell_type": "code",
      "metadata": {
        "id": "OgEF_nttkB3C"
      },
      "source": [
        "#add new method \r\n",
        "#overriding\r\n",
        "class Football(Ball):\r\n",
        "  def __init__(self):\r\n",
        "    #create instances of Ball\r\n",
        "    Ball.__init__(self)\r\n",
        "    print(f'football created!')\r\n",
        "  #overide base class method\r\n",
        "  def who_am_i(self):\r\n",
        "    print(f'i am football!')\r\n",
        "  #new method\r\n",
        "  def play(self):\r\n",
        "    print(f'hey! i am ready for play!')"
      ],
      "execution_count": 7,
      "outputs": []
    },
    {
      "cell_type": "code",
      "metadata": {
        "colab": {
          "base_uri": "https://localhost:8080/"
        },
        "id": "XCr7T3f5kLGu",
        "outputId": "e00c2b3a-f262-41b3-b9ef-b3f077acdd1d"
      },
      "source": [
        "#create object\r\n",
        "myFootball = Football()\r\n",
        "#call new method\r\n",
        "myFootball.play()"
      ],
      "execution_count": 8,
      "outputs": [
        {
          "output_type": "stream",
          "text": [
            "Ball created!\n",
            "football created!\n",
            "hey! i am ready for play!\n"
          ],
          "name": "stdout"
        }
      ]
    }
  ]
}